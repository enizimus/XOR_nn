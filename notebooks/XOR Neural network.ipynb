{
 "cells": [
  {
   "cell_type": "markdown",
   "metadata": {},
   "source": [
    "# Simple Neural Network using Tensorflow for solving XOR function\n",
    "\n",
    "** Introduction : **\n",
    "In this notebook we will go through the steps of making a simple 2-layer neural network that will learn the XOR function. The XOR \n",
    "function, exclusive or, will give us a 1 only if one of the inputs is zero and the other one, in cases of both beeing one or zero \n",
    "it returns zero, as can be seen in the following table. Where x1 and x2 are the inputs to the function and Y the output. We will use this data to train our model on as these cover all the usecases for the function.\n",
    "\n",
    "| x1 | x2 | Y |\n",
    "|:--:|:--:|:-:|\n",
    "|  0 |  0 | 0 |\n",
    "|  0 |  1 | 1 |\n",
    "|  1 |  0 | 1 |\n",
    "|  1 |  1 | 0 |\n",
    "\n",
    "** Implementation : **\n",
    "To start building the model we will use for this function we will first import the following packages:\n",
    "\n",
    "- Tensorflow \n",
    "- Numpy"
   ]
  },
  {
   "cell_type": "code",
   "execution_count": 11,
   "metadata": {},
   "outputs": [],
   "source": [
    "%matplotlib inline\n",
    "import numpy as np\n",
    "import tensorflow as tf\n",
    "import matplotlib.pyplot as plt\n",
    "\n",
    "# Training data as presented in the table above\n",
    "\n",
    "X_train = np.array([[0., 0.], [0., 1.], [1., 0.], [1., 1.]], dtype=np.float32)\n",
    "Y_train = np.array([[0.], [1.], [1.], [0.]], dtype=np.float32)"
   ]
  },
  {
   "cell_type": "markdown",
   "metadata": {},
   "source": [
    "We will use the Interactive Session from Tensorflow so that the Session is implicitly part of any call to  $eval()$, that way we dont have to pass the Session variable around making the code easier to read. "
   ]
  },
  {
   "cell_type": "code",
   "execution_count": 12,
   "metadata": {},
   "outputs": [],
   "source": [
    "sess = tf.InteractiveSession()"
   ]
  },
  {
   "cell_type": "markdown",
   "metadata": {},
   "source": [
    "### Model ###\n",
    "\n",
    "The neural network model we will be building will be a two layer neural network. Which we can see in the following figure : \n",
    "\n",
    "![Figure 1.) Neural network structure](nn_model.png)\n",
    "\n",
    "As we can see from the figure above, the activation function for the hidden layer will be the [ReLU](https://medium.com/tinymind/a-practical-guide-to-relu-b83ca804f1f7) (rectified linear unit) function and for the output layer we will be using the [Sigmoid](https://en.wikipedia.org/wiki/Sigmoid_function) activation. \n",
    "\n",
    "To start building the neural network we will first have to define the variables for the weights $w1$, $w2$ and biases $b1$, $b2$. As we can see from the model structure above the model will have 2 input features $x1$ and $x2$, with :\n",
    "\n",
    "- $n_{in}$ ... number of input features\n",
    "- $n_{hidd}$ ... number of nodes in hidden layer\n",
    "\n",
    "The weight matrices and bias vectors will have the following shapes : \n",
    "\n",
    "- $w_1.shape = (n_{in},n_{hidd})$\n",
    "- $b_1.shape = (1,n_{hidd})$\n",
    "- $w_2.shape = (n_{hidd},1)$\n",
    "- $b_2.shape = (1,1)$\n",
    "\n",
    "To implement this using tensorflow you can use this code :"
   ]
  },
  {
   "cell_type": "code",
   "execution_count": 13,
   "metadata": {},
   "outputs": [],
   "source": [
    "n_in = 2\n",
    "n_hidd = 2\n",
    "\n",
    "w1 = tf.Variable(tf.random_uniform([n_in, n_hidd], -1, 1), trainable=True)\n",
    "b1 = tf.Variable(tf.zeros(n_hidd))\n",
    "w2 = tf.Variable(tf.random_uniform([n_hidd, 1], -1, 1), trainable=True)\n",
    "b2 = tf.Variable(tf.zeros(1))"
   ]
  },
  {
   "cell_type": "markdown",
   "metadata": {},
   "source": [
    "The next step is to define a so called *placeholder* using tensorflow for the input vector, $x$, and a *placeholder* for the true label vector, $y$, which will be used for computing the cost. The difference between variables and placeholders in tensorflow is that variables need to be initialized by the session before they're used, whereas placeholders are initialized by the session wherever they are run. We define them as follows :"
   ]
  },
  {
   "cell_type": "code",
   "execution_count": 14,
   "metadata": {},
   "outputs": [],
   "source": [
    "x = tf.placeholder(shape=(None, n_in), dtype=tf.float32) \n",
    "y = tf.placeholder(shape=(None, 1), dtype=tf.float32)"
   ]
  },
  {
   "cell_type": "markdown",
   "metadata": {},
   "source": [
    "Now we can use the previously defined blocks and start adding them together to build the model presented earlier.\n",
    "\n",
    "To feed the input features to the hidden layer nodes and then to the output layer we will use the following equations : \n",
    "\n",
    "$$z_1 = w_1^Tx + b_1$$\n",
    "$$a_1 = relu(z_1)$$\n",
    "$$z_2 = w_2^Tx + b_2$$\n",
    "$$a_2 = \\sigma(z_2)$$\n",
    "\n",
    "In the above equations we have implemented the activation functions as presented in Figure 1., the tensorflow code :"
   ]
  },
  {
   "cell_type": "code",
   "execution_count": 15,
   "metadata": {},
   "outputs": [],
   "source": [
    "z1 = tf.matmul(x, w1) + b1\n",
    "a1 = tf.nn.relu(z1)\n",
    "z2 = tf.matmul(a1, w2) + b2\n",
    "a2 = tf.sigmoid(z2)"
   ]
  },
  {
   "cell_type": "markdown",
   "metadata": {},
   "source": [
    "We have now completed the forward propagation implementation part of the neural network model. Implementing the cost function and gradient descent, where the learning happens, is the next step. Doing so is pretty easy with tensorflow but reading up on [gradient descent](https://hackernoon.com/gradient-descent-aynk-7cbe95a778da) and coding it yourself would be a very good exercise and is highly recommended. Regarding the gradient descent we need to choose a good learning rate, we will use $0.1$ but you should also try smaller and bigger values to see how the model evolves.\n",
    "\n",
    "As our loss we will implement the following function : \n",
    "\n",
    "$$J = -(y \\cdot log(a2) + (1 - y) \\cdot log(1 - a2))$$\n",
    "\n",
    "And use the gradient descent algorithm to minimize the cost computed over our training examples. To rule out any missconceptions, \"loss\" is used when reffering to a single training example and the \"cost\" is over the entire training set. The tensorflow code for the loss and gradient descent is :"
   ]
  },
  {
   "cell_type": "code",
   "execution_count": 36,
   "metadata": {},
   "outputs": [],
   "source": [
    "learning_rate = 0.1\n",
    "cost = tf.reduce_mean(-(y*tf.log(a2) + (1-y)*tf.log(1-a2))) \n",
    "train_step = tf.train.GradientDescentOptimizer(learning_rate).minimize(cost)"
   ]
  },
  {
   "cell_type": "markdown",
   "metadata": {},
   "source": [
    "In this step we will have to define a variable initializer which will initialize all the variables defined earlier so that they can be used properly by the code we wrote previously. An important note here is that depending on the initialized values for the weights you will be able to observe the cost converging to a relatively high value and staying around that point or you will see the cost converging rapidly to a value close to zero. So if you get a slow convergence first time running, try it again until you hit initial values that allow a much faster convergence.\n",
    "\n",
    "Now we will just need to repeat the gradient descent for a number of iterations, in our case we will run the training for $20000$ iterations and print the cost every $1000$ iterations."
   ]
  },
  {
   "cell_type": "code",
   "execution_count": 37,
   "metadata": {},
   "outputs": [],
   "source": [
    "# simple function for calculating the accuracy\n",
    "\n",
    "def calc_acc(y1, y2):\n",
    "    miss = 0\n",
    "    for v1,v2 in zip(y1,y2):\n",
    "        if v1 != v2:\n",
    "            miss += 1\n",
    "    return ((len(y1)-miss)/len(y1))*100"
   ]
  },
  {
   "cell_type": "code",
   "execution_count": 38,
   "metadata": {},
   "outputs": [
    {
     "name": "stdout",
     "output_type": "stream",
     "text": [
      "Iter = 0, Cost = 0.644, Acc = 50.00%\n",
      "Iter = 1000, Cost = 0.030, Acc = 100.00%\n",
      "Iter = 2000, Cost = 0.011, Acc = 100.00%\n",
      "Iter = 3000, Cost = 0.006, Acc = 100.00%\n",
      "Iter = 4000, Cost = 0.004, Acc = 100.00%\n",
      "Iter = 5000, Cost = 0.003, Acc = 100.00%\n",
      "Iter = 6000, Cost = 0.003, Acc = 100.00%\n",
      "Iter = 7000, Cost = 0.002, Acc = 100.00%\n",
      "Iter = 8000, Cost = 0.002, Acc = 100.00%\n",
      "Iter = 9000, Cost = 0.002, Acc = 100.00%\n",
      "Iter = 10000, Cost = 0.002, Acc = 100.00%\n",
      "Iter = 11000, Cost = 0.001, Acc = 100.00%\n",
      "Iter = 12000, Cost = 0.001, Acc = 100.00%\n",
      "Iter = 13000, Cost = 0.001, Acc = 100.00%\n",
      "Iter = 14000, Cost = 0.001, Acc = 100.00%\n",
      "Iter = 15000, Cost = 0.001, Acc = 100.00%\n",
      "Iter = 16000, Cost = 0.001, Acc = 100.00%\n",
      "Iter = 17000, Cost = 0.001, Acc = 100.00%\n",
      "Iter = 18000, Cost = 0.001, Acc = 100.00%\n",
      "Iter = 19000, Cost = 0.001, Acc = 100.00%\n"
     ]
    },
    {
     "data": {
      "image/png": "[encoded data removed]",
      "text/plain": [
       "<Figure size 432x288 with 1 Axes>"
      ]
     },
     "metadata": {},
     "output_type": "display_data"
    },
    {
     "data": {
      "image/png": "[encoded data removed]",
      "text/plain": [
       "<Figure size 432x288 with 1 Axes>"
      ]
     },
     "metadata": {},
     "output_type": "display_data"
    }
   ],
   "source": [
    "init = tf.global_variables_initializer()\n",
    "init.run()\n",
    "\n",
    "cost_list = []\n",
    "acc_list = []\n",
    "for i in range(20000):\n",
    "    train_step.run(feed_dict={x: X_train, y: Y_train})\n",
    "    if i%1000 == 0:\n",
    "        curr_cost = cost.eval(feed_dict={x: X_train, y: Y_train})\n",
    "        y_pred = a2.eval(feed_dict={x: X_train})\n",
    "        y_pred = (y_pred > 0.5).astype(np.float32)\n",
    "        curr_acc = calc_acc(Y_train, y_pred)\n",
    "        print('Iter = {}, Cost = {:.3f}, Acc = {:.2f}%'.format(i, curr_cost, curr_acc))\n",
    "        cost_list.append(curr_cost)\n",
    "        acc_list.append(curr_acc)\n",
    "        \n",
    "plt.plot(cost_list)\n",
    "plt.ylabel('Cost')\n",
    "plt.xlabel('iterations (per thousands)')\n",
    "plt.title(\"Learning rate =\" + str(learning_rate))\n",
    "plt.show()\n",
    "\n",
    "plt.plot(acc_list)\n",
    "plt.ylabel('Accuracy [%]')\n",
    "plt.xlabel('iterations (per thousands)')\n",
    "plt.title(\"Learning rate =\" + str(learning_rate))\n",
    "plt.show()"
   ]
  },
  {
   "cell_type": "markdown",
   "metadata": {},
   "source": [
    "We have now a model that we have trained and made ready for use, so let's test it on some test data. \n"
   ]
  },
  {
   "cell_type": "code",
   "execution_count": 29,
   "metadata": {},
   "outputs": [
    {
     "name": "stdout",
     "output_type": "stream",
     "text": [
      "y_pred\n",
      "[[0. 0. 1. 0. 1. 1. 0. 1. 1. 0. 1.]]\n",
      "Y_test\n",
      "[[0. 0. 1. 0. 1. 1. 0. 1. 1. 0. 1.]]\n",
      "Accuracy = 100.00 %\n"
     ]
    }
   ],
   "source": [
    "X_test = np.array([[1., 1.], [0., 0.], [1., 0.], [1., 1.], [1., 0], [0., 1.], [0., 0.], [0., 1.], [0., 1.], [1., 1.], [1., 0.]], dtype=np.float32)\n",
    "Y_test = np.array([[0.], [0.], [1.], [0.], [1.], [1.] , [0.], [1.], [1.], [0.], [1.]], dtype=np.float32)\n",
    "\n",
    "y_pred = a2.eval(feed_dict={x: X_test})\n",
    "y_pred = (y_pred > 0.5).astype(np.float32)\n",
    "\n",
    "acc = calc_acc(Y_test, y_pred)\n",
    "print('y_pred')\n",
    "print(y_pred.T)\n",
    "print('Y_test')\n",
    "print(Y_test.T)\n",
    "print('Accuracy = {:.2f} %'.format(acc))"
   ]
  },
  {
   "cell_type": "markdown",
   "metadata": {},
   "source": [
    "We achieve a accuracy of 100% which was expected given the number of iterations over our training data. In this case we wanted to achieve overfitting on the training data because it is the only data our model will probably encounter. Let's try now what happens if we plug in some different values than ones and zeros. Lets run the following code : "
   ]
  },
  {
   "cell_type": "code",
   "execution_count": 30,
   "metadata": {},
   "outputs": [
    {
     "name": "stdout",
     "output_type": "stream",
     "text": [
      "X_test\n",
      "[[ 2.  1. -1. -2.]\n",
      " [ 1.  1.  1. -2.]]\n",
      "y_pred\n",
      "[[1. 0. 1. 0.]]\n"
     ]
    }
   ],
   "source": [
    "# test data :\n",
    "\n",
    "X_test = np.array([[2., 1.], [1., 1.], [-1., 1.], [-2., -2.]], dtype=np.float32)\n",
    "y_pred = a2.eval(feed_dict={x: X_test})\n",
    "y_pred = (y_pred > 0.5).astype(np.float32)\n",
    "\n",
    "acc = calc_acc(Y_test, y_pred)\n",
    "\n",
    "print('X_test')\n",
    "print(X_test.T)\n",
    "print('y_pred')\n",
    "print(y_pred.T)\n"
   ]
  },
  {
   "cell_type": "markdown",
   "metadata": {},
   "source": [
    "We see that the model has learned to look for the difference of the two input features, if the difference is not equal to zero it outputs a 0 and otherwise a 1. "
   ]
  },
  {
   "cell_type": "code",
   "execution_count": null,
   "metadata": {},
   "outputs": [],
   "source": []
  }
 ],
 "metadata": {
  "kernelspec": {
   "display_name": "Python 3",
   "language": "python",
   "name": "python3"
  },
  "language_info": {
   "codemirror_mode": {
    "name": "ipython",
    "version": 3
   },
   "file_extension": ".py",
   "mimetype": "text/x-python",
   "name": "python",
   "nbconvert_exporter": "python",
   "pygments_lexer": "ipython3",
   "version": "3.6.5"
  }
 },
 "nbformat": 4,
 "nbformat_minor": 2
}
